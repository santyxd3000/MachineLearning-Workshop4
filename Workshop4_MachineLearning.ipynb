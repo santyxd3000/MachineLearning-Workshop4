{
  "nbformat": 4,
  "nbformat_minor": 0,
  "metadata": {
    "colab": {
      "provenance": [],
      "authorship_tag": "ABX9TyO9vUY4ydxYgoWVpzjUfRwF",
      "include_colab_link": true
    },
    "kernelspec": {
      "name": "python3",
      "display_name": "Python 3"
    },
    "language_info": {
      "name": "python"
    }
  },
  "cells": [
    {
      "cell_type": "markdown",
      "metadata": {
        "id": "view-in-github",
        "colab_type": "text"
      },
      "source": [
        "<a href=\"https://colab.research.google.com/github/santyxd3000/MachineLearning-Workshop4/blob/main/Workshop4_MachineLearning.ipynb\" target=\"_parent\"><img src=\"https://colab.research.google.com/assets/colab-badge.svg\" alt=\"Open In Colab\"/></a>"
      ]
    },
    {
      "cell_type": "markdown",
      "source": [
        "# TAREA 4 - MACHINE LEARNING\n",
        "\n",
        "Santiago Pardo - 202013025\n",
        "\n",
        "\n",
        "Fernando Álvarez - 202014988\n"
      ],
      "metadata": {
        "id": "6e5HxqTOO98s"
      }
    },
    {
      "cell_type": "markdown",
      "source": [
        "\n",
        "El objetivo de este taller es resolver el problema de clasificación de potabilidad de agua usando los datos adjuntos. Divida apropiadamente los datos en conjuntos de entrenamiento y prueba. A su vez, parte de los datos de entrenamiento se deben utilizar en los procedimientos de selección de modelo"
      ],
      "metadata": {
        "id": "Hx5DUUMYPYzr"
      }
    },
    {
      "cell_type": "code",
      "execution_count": null,
      "metadata": {
        "id": "s6PXIeDRO8qy"
      },
      "outputs": [],
      "source": [
        "df"
      ]
    }
  ]
}