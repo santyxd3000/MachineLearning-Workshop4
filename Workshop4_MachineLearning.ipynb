{
  "nbformat": 4,
  "nbformat_minor": 0,
  "metadata": {
    "colab": {
      "provenance": [],
      "toc_visible": true,
      "gpuType": "T4",
      "include_colab_link": true
    },
    "kernelspec": {
      "name": "python3",
      "display_name": "Python 3"
    },
    "language_info": {
      "name": "python"
    },
    "accelerator": "GPU"
  },
  "cells": [
    {
      "cell_type": "markdown",
      "metadata": {
        "id": "view-in-github",
        "colab_type": "text"
      },
      "source": [
        "<a href=\"https://colab.research.google.com/github/santyxd3000/MachineLearning-Workshop4/blob/main/Workshop4_MachineLearning.ipynb\" target=\"_parent\"><img src=\"https://colab.research.google.com/assets/colab-badge.svg\" alt=\"Open In Colab\"/></a>"
      ]
    },
    {
      "cell_type": "markdown",
      "source": [
        "# TAREA 4 - MACHINE LEARNING\n",
        "\n",
        "Santiago Pardo - 202013025\n",
        "\n",
        "\n",
        "Fernando Álvarez - 202014988\n"
      ],
      "metadata": {
        "id": "6e5HxqTOO98s"
      }
    },
    {
      "cell_type": "code",
      "source": [
        "from google.colab import files\n",
        "uploaded = files.upload()"
      ],
      "metadata": {
        "colab": {
          "base_uri": "https://localhost:8080/",
          "height": 74
        },
        "id": "WoO7LXZcSYgO",
        "outputId": "8b5ee890-b01b-4580-99be-13234232ff6d"
      },
      "execution_count": 1,
      "outputs": [
        {
          "output_type": "display_data",
          "data": {
            "text/plain": [
              "<IPython.core.display.HTML object>"
            ],
            "text/html": [
              "\n",
              "     <input type=\"file\" id=\"files-cc227758-3a88-45cc-bea6-5d610472385b\" name=\"files[]\" multiple disabled\n",
              "        style=\"border:none\" />\n",
              "     <output id=\"result-cc227758-3a88-45cc-bea6-5d610472385b\">\n",
              "      Upload widget is only available when the cell has been executed in the\n",
              "      current browser session. Please rerun this cell to enable.\n",
              "      </output>\n",
              "      <script>// Copyright 2017 Google LLC\n",
              "//\n",
              "// Licensed under the Apache License, Version 2.0 (the \"License\");\n",
              "// you may not use this file except in compliance with the License.\n",
              "// You may obtain a copy of the License at\n",
              "//\n",
              "//      http://www.apache.org/licenses/LICENSE-2.0\n",
              "//\n",
              "// Unless required by applicable law or agreed to in writing, software\n",
              "// distributed under the License is distributed on an \"AS IS\" BASIS,\n",
              "// WITHOUT WARRANTIES OR CONDITIONS OF ANY KIND, either express or implied.\n",
              "// See the License for the specific language governing permissions and\n",
              "// limitations under the License.\n",
              "\n",
              "/**\n",
              " * @fileoverview Helpers for google.colab Python module.\n",
              " */\n",
              "(function(scope) {\n",
              "function span(text, styleAttributes = {}) {\n",
              "  const element = document.createElement('span');\n",
              "  element.textContent = text;\n",
              "  for (const key of Object.keys(styleAttributes)) {\n",
              "    element.style[key] = styleAttributes[key];\n",
              "  }\n",
              "  return element;\n",
              "}\n",
              "\n",
              "// Max number of bytes which will be uploaded at a time.\n",
              "const MAX_PAYLOAD_SIZE = 100 * 1024;\n",
              "\n",
              "function _uploadFiles(inputId, outputId) {\n",
              "  const steps = uploadFilesStep(inputId, outputId);\n",
              "  const outputElement = document.getElementById(outputId);\n",
              "  // Cache steps on the outputElement to make it available for the next call\n",
              "  // to uploadFilesContinue from Python.\n",
              "  outputElement.steps = steps;\n",
              "\n",
              "  return _uploadFilesContinue(outputId);\n",
              "}\n",
              "\n",
              "// This is roughly an async generator (not supported in the browser yet),\n",
              "// where there are multiple asynchronous steps and the Python side is going\n",
              "// to poll for completion of each step.\n",
              "// This uses a Promise to block the python side on completion of each step,\n",
              "// then passes the result of the previous step as the input to the next step.\n",
              "function _uploadFilesContinue(outputId) {\n",
              "  const outputElement = document.getElementById(outputId);\n",
              "  const steps = outputElement.steps;\n",
              "\n",
              "  const next = steps.next(outputElement.lastPromiseValue);\n",
              "  return Promise.resolve(next.value.promise).then((value) => {\n",
              "    // Cache the last promise value to make it available to the next\n",
              "    // step of the generator.\n",
              "    outputElement.lastPromiseValue = value;\n",
              "    return next.value.response;\n",
              "  });\n",
              "}\n",
              "\n",
              "/**\n",
              " * Generator function which is called between each async step of the upload\n",
              " * process.\n",
              " * @param {string} inputId Element ID of the input file picker element.\n",
              " * @param {string} outputId Element ID of the output display.\n",
              " * @return {!Iterable<!Object>} Iterable of next steps.\n",
              " */\n",
              "function* uploadFilesStep(inputId, outputId) {\n",
              "  const inputElement = document.getElementById(inputId);\n",
              "  inputElement.disabled = false;\n",
              "\n",
              "  const outputElement = document.getElementById(outputId);\n",
              "  outputElement.innerHTML = '';\n",
              "\n",
              "  const pickedPromise = new Promise((resolve) => {\n",
              "    inputElement.addEventListener('change', (e) => {\n",
              "      resolve(e.target.files);\n",
              "    });\n",
              "  });\n",
              "\n",
              "  const cancel = document.createElement('button');\n",
              "  inputElement.parentElement.appendChild(cancel);\n",
              "  cancel.textContent = 'Cancel upload';\n",
              "  const cancelPromise = new Promise((resolve) => {\n",
              "    cancel.onclick = () => {\n",
              "      resolve(null);\n",
              "    };\n",
              "  });\n",
              "\n",
              "  // Wait for the user to pick the files.\n",
              "  const files = yield {\n",
              "    promise: Promise.race([pickedPromise, cancelPromise]),\n",
              "    response: {\n",
              "      action: 'starting',\n",
              "    }\n",
              "  };\n",
              "\n",
              "  cancel.remove();\n",
              "\n",
              "  // Disable the input element since further picks are not allowed.\n",
              "  inputElement.disabled = true;\n",
              "\n",
              "  if (!files) {\n",
              "    return {\n",
              "      response: {\n",
              "        action: 'complete',\n",
              "      }\n",
              "    };\n",
              "  }\n",
              "\n",
              "  for (const file of files) {\n",
              "    const li = document.createElement('li');\n",
              "    li.append(span(file.name, {fontWeight: 'bold'}));\n",
              "    li.append(span(\n",
              "        `(${file.type || 'n/a'}) - ${file.size} bytes, ` +\n",
              "        `last modified: ${\n",
              "            file.lastModifiedDate ? file.lastModifiedDate.toLocaleDateString() :\n",
              "                                    'n/a'} - `));\n",
              "    const percent = span('0% done');\n",
              "    li.appendChild(percent);\n",
              "\n",
              "    outputElement.appendChild(li);\n",
              "\n",
              "    const fileDataPromise = new Promise((resolve) => {\n",
              "      const reader = new FileReader();\n",
              "      reader.onload = (e) => {\n",
              "        resolve(e.target.result);\n",
              "      };\n",
              "      reader.readAsArrayBuffer(file);\n",
              "    });\n",
              "    // Wait for the data to be ready.\n",
              "    let fileData = yield {\n",
              "      promise: fileDataPromise,\n",
              "      response: {\n",
              "        action: 'continue',\n",
              "      }\n",
              "    };\n",
              "\n",
              "    // Use a chunked sending to avoid message size limits. See b/62115660.\n",
              "    let position = 0;\n",
              "    do {\n",
              "      const length = Math.min(fileData.byteLength - position, MAX_PAYLOAD_SIZE);\n",
              "      const chunk = new Uint8Array(fileData, position, length);\n",
              "      position += length;\n",
              "\n",
              "      const base64 = btoa(String.fromCharCode.apply(null, chunk));\n",
              "      yield {\n",
              "        response: {\n",
              "          action: 'append',\n",
              "          file: file.name,\n",
              "          data: base64,\n",
              "        },\n",
              "      };\n",
              "\n",
              "      let percentDone = fileData.byteLength === 0 ?\n",
              "          100 :\n",
              "          Math.round((position / fileData.byteLength) * 100);\n",
              "      percent.textContent = `${percentDone}% done`;\n",
              "\n",
              "    } while (position < fileData.byteLength);\n",
              "  }\n",
              "\n",
              "  // All done.\n",
              "  yield {\n",
              "    response: {\n",
              "      action: 'complete',\n",
              "    }\n",
              "  };\n",
              "}\n",
              "\n",
              "scope.google = scope.google || {};\n",
              "scope.google.colab = scope.google.colab || {};\n",
              "scope.google.colab._files = {\n",
              "  _uploadFiles,\n",
              "  _uploadFilesContinue,\n",
              "};\n",
              "})(self);\n",
              "</script> "
            ]
          },
          "metadata": {}
        },
        {
          "output_type": "stream",
          "name": "stdout",
          "text": [
            "Saving water_potability.csv to water_potability.csv\n"
          ]
        }
      ]
    },
    {
      "cell_type": "code",
      "source": [
        "import io\n",
        "import pandas as pd\n",
        "from sklearn.preprocessing import StandardScaler\n",
        "from sklearn.model_selection import train_test_split\n",
        "from sklearn.svm import SVC\n",
        "import numpy as np\n",
        "import sklearn.metrics as skm\n",
        "from sklearn.model_selection import GridSearchCV\n",
        "from sklearn.metrics import accuracy_score\n",
        "from sklearn.metrics import confusion_matrix, ConfusionMatrixDisplay\n",
        "import matplotlib.pyplot as plt\n"
      ],
      "metadata": {
        "id": "L1movGs3R6HR"
      },
      "execution_count": 46,
      "outputs": []
    },
    {
      "cell_type": "markdown",
      "source": [
        "\n",
        "El objetivo de este taller es resolver el problema de clasificación de potabilidad de agua usando los datos adjuntos. Divida apropiadamente los datos en conjuntos de entrenamiento y prueba. A su vez, parte de los datos de entrenamiento se deben utilizar en los procedimientos de selección de modelo"
      ],
      "metadata": {
        "id": "Hx5DUUMYPYzr"
      }
    },
    {
      "cell_type": "code",
      "execution_count": 3,
      "metadata": {
        "id": "s6PXIeDRO8qy"
      },
      "outputs": [],
      "source": [
        "df = pd.read_csv(io.BytesIO(uploaded['water_potability.csv']))\n",
        "df = df.fillna(df.mean())"
      ]
    },
    {
      "cell_type": "code",
      "source": [
        "df"
      ],
      "metadata": {
        "colab": {
          "base_uri": "https://localhost:8080/",
          "height": 444
        },
        "id": "TnRedAkbT2-U",
        "outputId": "7e1823ab-ce86-4ca7-b43f-173cc8ae252b"
      },
      "execution_count": 4,
      "outputs": [
        {
          "output_type": "execute_result",
          "data": {
            "text/plain": [
              "            ph    Hardness        Solids  Chloramines     Sulfate  \\\n",
              "0     7.080795  204.890455  20791.318981     7.300212  368.516441   \n",
              "1     3.716080  129.422921  18630.057858     6.635246  333.775777   \n",
              "2     8.099124  224.236259  19909.541732     9.275884  333.775777   \n",
              "3     8.316766  214.373394  22018.417441     8.059332  356.886136   \n",
              "4     9.092223  181.101509  17978.986339     6.546600  310.135738   \n",
              "...        ...         ...           ...          ...         ...   \n",
              "3271  4.668102  193.681735  47580.991603     7.166639  359.948574   \n",
              "3272  7.808856  193.553212  17329.802160     8.061362  333.775777   \n",
              "3273  9.419510  175.762646  33155.578218     7.350233  333.775777   \n",
              "3274  5.126763  230.603758  11983.869376     6.303357  333.775777   \n",
              "3275  7.874671  195.102299  17404.177061     7.509306  333.775777   \n",
              "\n",
              "      Conductivity  Organic_carbon  Trihalomethanes  Turbidity  Potability  \n",
              "0       564.308654       10.379783        86.990970   2.963135           0  \n",
              "1       592.885359       15.180013        56.329076   4.500656           0  \n",
              "2       418.606213       16.868637        66.420093   3.055934           0  \n",
              "3       363.266516       18.436524       100.341674   4.628771           0  \n",
              "4       398.410813       11.558279        31.997993   4.075075           0  \n",
              "...            ...             ...              ...        ...         ...  \n",
              "3271    526.424171       13.894419        66.687695   4.435821           1  \n",
              "3272    392.449580       19.903225        66.396293   2.798243           1  \n",
              "3273    432.044783       11.039070        69.845400   3.298875           1  \n",
              "3274    402.883113       11.168946        77.488213   4.708658           1  \n",
              "3275    327.459760       16.140368        78.698446   2.309149           1  \n",
              "\n",
              "[3276 rows x 10 columns]"
            ],
            "text/html": [
              "\n",
              "  <div id=\"df-9784648a-6d96-4469-b813-9f5f162d40d2\" class=\"colab-df-container\">\n",
              "    <div>\n",
              "<style scoped>\n",
              "    .dataframe tbody tr th:only-of-type {\n",
              "        vertical-align: middle;\n",
              "    }\n",
              "\n",
              "    .dataframe tbody tr th {\n",
              "        vertical-align: top;\n",
              "    }\n",
              "\n",
              "    .dataframe thead th {\n",
              "        text-align: right;\n",
              "    }\n",
              "</style>\n",
              "<table border=\"1\" class=\"dataframe\">\n",
              "  <thead>\n",
              "    <tr style=\"text-align: right;\">\n",
              "      <th></th>\n",
              "      <th>ph</th>\n",
              "      <th>Hardness</th>\n",
              "      <th>Solids</th>\n",
              "      <th>Chloramines</th>\n",
              "      <th>Sulfate</th>\n",
              "      <th>Conductivity</th>\n",
              "      <th>Organic_carbon</th>\n",
              "      <th>Trihalomethanes</th>\n",
              "      <th>Turbidity</th>\n",
              "      <th>Potability</th>\n",
              "    </tr>\n",
              "  </thead>\n",
              "  <tbody>\n",
              "    <tr>\n",
              "      <th>0</th>\n",
              "      <td>7.080795</td>\n",
              "      <td>204.890455</td>\n",
              "      <td>20791.318981</td>\n",
              "      <td>7.300212</td>\n",
              "      <td>368.516441</td>\n",
              "      <td>564.308654</td>\n",
              "      <td>10.379783</td>\n",
              "      <td>86.990970</td>\n",
              "      <td>2.963135</td>\n",
              "      <td>0</td>\n",
              "    </tr>\n",
              "    <tr>\n",
              "      <th>1</th>\n",
              "      <td>3.716080</td>\n",
              "      <td>129.422921</td>\n",
              "      <td>18630.057858</td>\n",
              "      <td>6.635246</td>\n",
              "      <td>333.775777</td>\n",
              "      <td>592.885359</td>\n",
              "      <td>15.180013</td>\n",
              "      <td>56.329076</td>\n",
              "      <td>4.500656</td>\n",
              "      <td>0</td>\n",
              "    </tr>\n",
              "    <tr>\n",
              "      <th>2</th>\n",
              "      <td>8.099124</td>\n",
              "      <td>224.236259</td>\n",
              "      <td>19909.541732</td>\n",
              "      <td>9.275884</td>\n",
              "      <td>333.775777</td>\n",
              "      <td>418.606213</td>\n",
              "      <td>16.868637</td>\n",
              "      <td>66.420093</td>\n",
              "      <td>3.055934</td>\n",
              "      <td>0</td>\n",
              "    </tr>\n",
              "    <tr>\n",
              "      <th>3</th>\n",
              "      <td>8.316766</td>\n",
              "      <td>214.373394</td>\n",
              "      <td>22018.417441</td>\n",
              "      <td>8.059332</td>\n",
              "      <td>356.886136</td>\n",
              "      <td>363.266516</td>\n",
              "      <td>18.436524</td>\n",
              "      <td>100.341674</td>\n",
              "      <td>4.628771</td>\n",
              "      <td>0</td>\n",
              "    </tr>\n",
              "    <tr>\n",
              "      <th>4</th>\n",
              "      <td>9.092223</td>\n",
              "      <td>181.101509</td>\n",
              "      <td>17978.986339</td>\n",
              "      <td>6.546600</td>\n",
              "      <td>310.135738</td>\n",
              "      <td>398.410813</td>\n",
              "      <td>11.558279</td>\n",
              "      <td>31.997993</td>\n",
              "      <td>4.075075</td>\n",
              "      <td>0</td>\n",
              "    </tr>\n",
              "    <tr>\n",
              "      <th>...</th>\n",
              "      <td>...</td>\n",
              "      <td>...</td>\n",
              "      <td>...</td>\n",
              "      <td>...</td>\n",
              "      <td>...</td>\n",
              "      <td>...</td>\n",
              "      <td>...</td>\n",
              "      <td>...</td>\n",
              "      <td>...</td>\n",
              "      <td>...</td>\n",
              "    </tr>\n",
              "    <tr>\n",
              "      <th>3271</th>\n",
              "      <td>4.668102</td>\n",
              "      <td>193.681735</td>\n",
              "      <td>47580.991603</td>\n",
              "      <td>7.166639</td>\n",
              "      <td>359.948574</td>\n",
              "      <td>526.424171</td>\n",
              "      <td>13.894419</td>\n",
              "      <td>66.687695</td>\n",
              "      <td>4.435821</td>\n",
              "      <td>1</td>\n",
              "    </tr>\n",
              "    <tr>\n",
              "      <th>3272</th>\n",
              "      <td>7.808856</td>\n",
              "      <td>193.553212</td>\n",
              "      <td>17329.802160</td>\n",
              "      <td>8.061362</td>\n",
              "      <td>333.775777</td>\n",
              "      <td>392.449580</td>\n",
              "      <td>19.903225</td>\n",
              "      <td>66.396293</td>\n",
              "      <td>2.798243</td>\n",
              "      <td>1</td>\n",
              "    </tr>\n",
              "    <tr>\n",
              "      <th>3273</th>\n",
              "      <td>9.419510</td>\n",
              "      <td>175.762646</td>\n",
              "      <td>33155.578218</td>\n",
              "      <td>7.350233</td>\n",
              "      <td>333.775777</td>\n",
              "      <td>432.044783</td>\n",
              "      <td>11.039070</td>\n",
              "      <td>69.845400</td>\n",
              "      <td>3.298875</td>\n",
              "      <td>1</td>\n",
              "    </tr>\n",
              "    <tr>\n",
              "      <th>3274</th>\n",
              "      <td>5.126763</td>\n",
              "      <td>230.603758</td>\n",
              "      <td>11983.869376</td>\n",
              "      <td>6.303357</td>\n",
              "      <td>333.775777</td>\n",
              "      <td>402.883113</td>\n",
              "      <td>11.168946</td>\n",
              "      <td>77.488213</td>\n",
              "      <td>4.708658</td>\n",
              "      <td>1</td>\n",
              "    </tr>\n",
              "    <tr>\n",
              "      <th>3275</th>\n",
              "      <td>7.874671</td>\n",
              "      <td>195.102299</td>\n",
              "      <td>17404.177061</td>\n",
              "      <td>7.509306</td>\n",
              "      <td>333.775777</td>\n",
              "      <td>327.459760</td>\n",
              "      <td>16.140368</td>\n",
              "      <td>78.698446</td>\n",
              "      <td>2.309149</td>\n",
              "      <td>1</td>\n",
              "    </tr>\n",
              "  </tbody>\n",
              "</table>\n",
              "<p>3276 rows × 10 columns</p>\n",
              "</div>\n",
              "    <div class=\"colab-df-buttons\">\n",
              "\n",
              "  <div class=\"colab-df-container\">\n",
              "    <button class=\"colab-df-convert\" onclick=\"convertToInteractive('df-9784648a-6d96-4469-b813-9f5f162d40d2')\"\n",
              "            title=\"Convert this dataframe to an interactive table.\"\n",
              "            style=\"display:none;\">\n",
              "\n",
              "  <svg xmlns=\"http://www.w3.org/2000/svg\" height=\"24px\" viewBox=\"0 -960 960 960\">\n",
              "    <path d=\"M120-120v-720h720v720H120Zm60-500h600v-160H180v160Zm220 220h160v-160H400v160Zm0 220h160v-160H400v160ZM180-400h160v-160H180v160Zm440 0h160v-160H620v160ZM180-180h160v-160H180v160Zm440 0h160v-160H620v160Z\"/>\n",
              "  </svg>\n",
              "    </button>\n",
              "\n",
              "  <style>\n",
              "    .colab-df-container {\n",
              "      display:flex;\n",
              "      gap: 12px;\n",
              "    }\n",
              "\n",
              "    .colab-df-convert {\n",
              "      background-color: #E8F0FE;\n",
              "      border: none;\n",
              "      border-radius: 50%;\n",
              "      cursor: pointer;\n",
              "      display: none;\n",
              "      fill: #1967D2;\n",
              "      height: 32px;\n",
              "      padding: 0 0 0 0;\n",
              "      width: 32px;\n",
              "    }\n",
              "\n",
              "    .colab-df-convert:hover {\n",
              "      background-color: #E2EBFA;\n",
              "      box-shadow: 0px 1px 2px rgba(60, 64, 67, 0.3), 0px 1px 3px 1px rgba(60, 64, 67, 0.15);\n",
              "      fill: #174EA6;\n",
              "    }\n",
              "\n",
              "    .colab-df-buttons div {\n",
              "      margin-bottom: 4px;\n",
              "    }\n",
              "\n",
              "    [theme=dark] .colab-df-convert {\n",
              "      background-color: #3B4455;\n",
              "      fill: #D2E3FC;\n",
              "    }\n",
              "\n",
              "    [theme=dark] .colab-df-convert:hover {\n",
              "      background-color: #434B5C;\n",
              "      box-shadow: 0px 1px 3px 1px rgba(0, 0, 0, 0.15);\n",
              "      filter: drop-shadow(0px 1px 2px rgba(0, 0, 0, 0.3));\n",
              "      fill: #FFFFFF;\n",
              "    }\n",
              "  </style>\n",
              "\n",
              "    <script>\n",
              "      const buttonEl =\n",
              "        document.querySelector('#df-9784648a-6d96-4469-b813-9f5f162d40d2 button.colab-df-convert');\n",
              "      buttonEl.style.display =\n",
              "        google.colab.kernel.accessAllowed ? 'block' : 'none';\n",
              "\n",
              "      async function convertToInteractive(key) {\n",
              "        const element = document.querySelector('#df-9784648a-6d96-4469-b813-9f5f162d40d2');\n",
              "        const dataTable =\n",
              "          await google.colab.kernel.invokeFunction('convertToInteractive',\n",
              "                                                    [key], {});\n",
              "        if (!dataTable) return;\n",
              "\n",
              "        const docLinkHtml = 'Like what you see? Visit the ' +\n",
              "          '<a target=\"_blank\" href=https://colab.research.google.com/notebooks/data_table.ipynb>data table notebook</a>'\n",
              "          + ' to learn more about interactive tables.';\n",
              "        element.innerHTML = '';\n",
              "        dataTable['output_type'] = 'display_data';\n",
              "        await google.colab.output.renderOutput(dataTable, element);\n",
              "        const docLink = document.createElement('div');\n",
              "        docLink.innerHTML = docLinkHtml;\n",
              "        element.appendChild(docLink);\n",
              "      }\n",
              "    </script>\n",
              "  </div>\n",
              "\n",
              "\n",
              "<div id=\"df-cfafa7a1-575b-4e39-b286-0e7505f260a7\">\n",
              "  <button class=\"colab-df-quickchart\" onclick=\"quickchart('df-cfafa7a1-575b-4e39-b286-0e7505f260a7')\"\n",
              "            title=\"Suggest charts\"\n",
              "            style=\"display:none;\">\n",
              "\n",
              "<svg xmlns=\"http://www.w3.org/2000/svg\" height=\"24px\"viewBox=\"0 0 24 24\"\n",
              "     width=\"24px\">\n",
              "    <g>\n",
              "        <path d=\"M19 3H5c-1.1 0-2 .9-2 2v14c0 1.1.9 2 2 2h14c1.1 0 2-.9 2-2V5c0-1.1-.9-2-2-2zM9 17H7v-7h2v7zm4 0h-2V7h2v10zm4 0h-2v-4h2v4z\"/>\n",
              "    </g>\n",
              "</svg>\n",
              "  </button>\n",
              "\n",
              "<style>\n",
              "  .colab-df-quickchart {\n",
              "      --bg-color: #E8F0FE;\n",
              "      --fill-color: #1967D2;\n",
              "      --hover-bg-color: #E2EBFA;\n",
              "      --hover-fill-color: #174EA6;\n",
              "      --disabled-fill-color: #AAA;\n",
              "      --disabled-bg-color: #DDD;\n",
              "  }\n",
              "\n",
              "  [theme=dark] .colab-df-quickchart {\n",
              "      --bg-color: #3B4455;\n",
              "      --fill-color: #D2E3FC;\n",
              "      --hover-bg-color: #434B5C;\n",
              "      --hover-fill-color: #FFFFFF;\n",
              "      --disabled-bg-color: #3B4455;\n",
              "      --disabled-fill-color: #666;\n",
              "  }\n",
              "\n",
              "  .colab-df-quickchart {\n",
              "    background-color: var(--bg-color);\n",
              "    border: none;\n",
              "    border-radius: 50%;\n",
              "    cursor: pointer;\n",
              "    display: none;\n",
              "    fill: var(--fill-color);\n",
              "    height: 32px;\n",
              "    padding: 0;\n",
              "    width: 32px;\n",
              "  }\n",
              "\n",
              "  .colab-df-quickchart:hover {\n",
              "    background-color: var(--hover-bg-color);\n",
              "    box-shadow: 0 1px 2px rgba(60, 64, 67, 0.3), 0 1px 3px 1px rgba(60, 64, 67, 0.15);\n",
              "    fill: var(--button-hover-fill-color);\n",
              "  }\n",
              "\n",
              "  .colab-df-quickchart-complete:disabled,\n",
              "  .colab-df-quickchart-complete:disabled:hover {\n",
              "    background-color: var(--disabled-bg-color);\n",
              "    fill: var(--disabled-fill-color);\n",
              "    box-shadow: none;\n",
              "  }\n",
              "\n",
              "  .colab-df-spinner {\n",
              "    border: 2px solid var(--fill-color);\n",
              "    border-color: transparent;\n",
              "    border-bottom-color: var(--fill-color);\n",
              "    animation:\n",
              "      spin 1s steps(1) infinite;\n",
              "  }\n",
              "\n",
              "  @keyframes spin {\n",
              "    0% {\n",
              "      border-color: transparent;\n",
              "      border-bottom-color: var(--fill-color);\n",
              "      border-left-color: var(--fill-color);\n",
              "    }\n",
              "    20% {\n",
              "      border-color: transparent;\n",
              "      border-left-color: var(--fill-color);\n",
              "      border-top-color: var(--fill-color);\n",
              "    }\n",
              "    30% {\n",
              "      border-color: transparent;\n",
              "      border-left-color: var(--fill-color);\n",
              "      border-top-color: var(--fill-color);\n",
              "      border-right-color: var(--fill-color);\n",
              "    }\n",
              "    40% {\n",
              "      border-color: transparent;\n",
              "      border-right-color: var(--fill-color);\n",
              "      border-top-color: var(--fill-color);\n",
              "    }\n",
              "    60% {\n",
              "      border-color: transparent;\n",
              "      border-right-color: var(--fill-color);\n",
              "    }\n",
              "    80% {\n",
              "      border-color: transparent;\n",
              "      border-right-color: var(--fill-color);\n",
              "      border-bottom-color: var(--fill-color);\n",
              "    }\n",
              "    90% {\n",
              "      border-color: transparent;\n",
              "      border-bottom-color: var(--fill-color);\n",
              "    }\n",
              "  }\n",
              "</style>\n",
              "\n",
              "  <script>\n",
              "    async function quickchart(key) {\n",
              "      const quickchartButtonEl =\n",
              "        document.querySelector('#' + key + ' button');\n",
              "      quickchartButtonEl.disabled = true;  // To prevent multiple clicks.\n",
              "      quickchartButtonEl.classList.add('colab-df-spinner');\n",
              "      try {\n",
              "        const charts = await google.colab.kernel.invokeFunction(\n",
              "            'suggestCharts', [key], {});\n",
              "      } catch (error) {\n",
              "        console.error('Error during call to suggestCharts:', error);\n",
              "      }\n",
              "      quickchartButtonEl.classList.remove('colab-df-spinner');\n",
              "      quickchartButtonEl.classList.add('colab-df-quickchart-complete');\n",
              "    }\n",
              "    (() => {\n",
              "      let quickchartButtonEl =\n",
              "        document.querySelector('#df-cfafa7a1-575b-4e39-b286-0e7505f260a7 button');\n",
              "      quickchartButtonEl.style.display =\n",
              "        google.colab.kernel.accessAllowed ? 'block' : 'none';\n",
              "    })();\n",
              "  </script>\n",
              "</div>\n",
              "    </div>\n",
              "  </div>\n"
            ]
          },
          "metadata": {},
          "execution_count": 4
        }
      ]
    },
    {
      "cell_type": "code",
      "source": [
        "#Dividir los datos en x y y (y son las etiquetas)\n",
        "x_data = df.drop(columns=['Potability'],axis=1)\n",
        "y_data = df[['Potability']]\n",
        "#Escalar los datos con StandardScaler\n",
        "scaler = StandardScaler()\n",
        "x_scaled_data = scaler.fit_transform(x_data)"
      ],
      "metadata": {
        "id": "JOpFt5bIUWB1"
      },
      "execution_count": 5,
      "outputs": []
    },
    {
      "cell_type": "code",
      "source": [
        "#Dividir datos de entrenamiento - 0.8 de entrenamiento, 0.2 de prueba\n",
        "x_train, x_test, y_train, y_test = train_test_split(x_scaled_data, y_data, train_size=0.8, test_size=0.2)\n",
        "y_train = np.ravel(np.array(y_train))\n",
        "y_test = np.ravel(np.array(y_test))"
      ],
      "metadata": {
        "id": "7Ad3stElUZIL"
      },
      "execution_count": 6,
      "outputs": []
    },
    {
      "cell_type": "markdown",
      "source": [
        "## **DESARROLLO DE MODELOS**"
      ],
      "metadata": {
        "id": "mwUzv3iXVZIf"
      }
    },
    {
      "cell_type": "markdown",
      "source": [
        "### *Kernel Polinomial*"
      ],
      "metadata": {
        "id": "W0-Y05x1mm5w"
      }
    },
    {
      "cell_type": "markdown",
      "source": [
        "Resuelva el problema utilizando un SVM con un kernel polinomial. Sintonice apropiadamente los parámetros del kernel y la constante C."
      ],
      "metadata": {
        "id": "-5w3Tj7DV_Mz"
      }
    },
    {
      "cell_type": "markdown",
      "source": [
        "En primer lugar, se encontró la dimensión óptima del kernel polinomial, asumiendo el C predeterminado de la librería SVC de sklearn(C=1), se utilizó la librería GridSearchCV para realizar una búsqueda de grilla para los grados del kernel polinomial.\n",
        "\n",
        "Para escoger los grados de la búsqueda de grilla, se escogieron los rangos de 1 a 10, asumiendo que 9 podría ser un valor máximo posible de kernel debido a la cantidad de descriptores que tienen los datos de entrenamiento, sin embargo se probó hasta 10 para observar si se reflejaba algún cambio si se ponían más dimensiones del kernel que descriptores.\n",
        "\n",
        "Por último, en la búsqueda de grilla se especificó un valor de 5 en el atributo cv, lo cual significa que se utiliza una validación cruzada de 5 pliegues, y esto ayuda a obtener una estimación más robusta del rendimiento del modelo"
      ],
      "metadata": {
        "id": "NEvoi2MXy1Dr"
      }
    },
    {
      "cell_type": "code",
      "source": [
        "svm_poly_dimension = SVC(kernel='poly',random_state=42)\n",
        "param_grid = {'degree': np.arange(1, 10)}\n",
        "grid_search_d = GridSearchCV(svm_poly_dimension, param_grid, cv=5, scoring='accuracy')\n",
        "grid_search_d.fit(x_train,y_train)\n",
        "best_degree = grid_search_d.best_params_['degree']\n",
        "\n",
        "best_svm_poly_dimension = SVC(kernel='poly', degree=best_degree)\n",
        "best_svm_poly_dimension.fit(x_train, y_train)\n",
        "\n",
        "y_pred = best_svm_poly_dimension.predict(x_test)\n",
        "accuracy = accuracy_score(y_test, y_pred)"
      ],
      "metadata": {
        "id": "7ucQ-PW7bX41"
      },
      "execution_count": 29,
      "outputs": []
    },
    {
      "cell_type": "code",
      "source": [
        "print(f\"La mejor dimensión del kernel polinomial para este problema es de {best_degree} con un accuracy de {accuracy}\")"
      ],
      "metadata": {
        "id": "TxG69xLoZxId",
        "colab": {
          "base_uri": "https://localhost:8080/"
        },
        "outputId": "808e4d2a-9c0e-40b1-d349-bf64dd575c8c"
      },
      "execution_count": 30,
      "outputs": [
        {
          "output_type": "stream",
          "name": "stdout",
          "text": [
            "La mejor dimensión del kernel polinomial para este problema es de 2 con un accuracy de 0.6585365853658537\n"
          ]
        }
      ]
    },
    {
      "cell_type": "markdown",
      "source": [
        "Con la dimensión apropiada ya encontrada, ahora se procedió a encontrar el valor apropiado de C, en el cual se utilizó la misma búsqueda de grilla que el que se utilizó para encontrar la dimensión y para los valores de C, se utilizaron varias potencias de 10, debido a que el algoritmo de SVM es sensible a la escala de los hiperparámetros, de tal modo que se permita explorar un rango que contenga valores pequeños y valores grandes. Se escogío una dimensión de 4 con base a la búsqueda de grilla anterior"
      ],
      "metadata": {
        "id": "UBTH325A1j7S"
      }
    },
    {
      "cell_type": "code",
      "source": [
        "svm_c = SVC(kernel='poly', degree=best_degree,random_state=42)\n",
        "param_grid = {'C': [0.1, 1, 10, 100, 1000]}\n",
        "grid_search_c = GridSearchCV(svm_c, param_grid, cv=5, scoring='accuracy')\n",
        "grid_search_c.fit(x_train,y_train)\n",
        "best_c = grid_search_c.best_params_['C']"
      ],
      "metadata": {
        "id": "LPeOO6cS2gRt"
      },
      "execution_count": 31,
      "outputs": []
    },
    {
      "cell_type": "code",
      "source": [
        "best_svm_poly_c = SVC(kernel='poly', degree=best_degree, C=best_c,random_state=42)\n",
        "best_svm_poly_c.fit(x_train, y_train)\n",
        "y_pred_poly = best_svm_poly_c.predict(x_test)\n",
        "accuracy_poly = accuracy_score(y_test, y_pred_poly)"
      ],
      "metadata": {
        "id": "9rfjXXIJ422D"
      },
      "execution_count": 32,
      "outputs": []
    },
    {
      "cell_type": "code",
      "source": [
        "print(f\"El mejor valor de C es de {best_c}, y el accuracy obtenido es de {accuracy_poly}\")"
      ],
      "metadata": {
        "id": "s6yyOKyr6HDb",
        "colab": {
          "base_uri": "https://localhost:8080/"
        },
        "outputId": "c81b740d-f27a-4aa6-b751-52b3f60567b0"
      },
      "execution_count": 33,
      "outputs": [
        {
          "output_type": "stream",
          "name": "stdout",
          "text": [
            "El mejor valor de C es de 1000, y el accuracy obtenido es de 0.6585365853658537\n"
          ]
        }
      ]
    },
    {
      "cell_type": "markdown",
      "source": [
        "Con un valor óptimo de C y de la dimensión, es este modelo el que pasará a ser evaluado posteriormente."
      ],
      "metadata": {
        "id": "lSFMqmAA61fK"
      }
    },
    {
      "cell_type": "markdown",
      "source": [
        "### *Kernel Gaussiano*"
      ],
      "metadata": {
        "id": "kEg0Pu54oz64"
      }
    },
    {
      "cell_type": "markdown",
      "source": [
        "Resuelva el problema utilizando un SVM con un kernel gaussiano. Sintonice apropiadamente los parámetros del kernel y la constante C.\n"
      ],
      "metadata": {
        "id": "94nc9YDnWAvj"
      }
    },
    {
      "cell_type": "markdown",
      "source": [
        "En este kernel gaussiano, para encontrar el valor de $γ$ apropiado, se utilizó la misma búsqueda de grilla ue se hizo para encontrar ambos parámetros del kernel polinomial, por lo cual se utilizaron nuevamente valores de potencias de 10, debido a que se quería un rango en el cual se pudieran probar valores pequeños y grandes y las potencias de 10 son apropiados para probar dicho rango"
      ],
      "metadata": {
        "id": "lvN8l_vI9VjT"
      }
    },
    {
      "cell_type": "code",
      "source": [
        "svm_rbf_gamma = SVC(kernel='rbf',random_state=42)\n",
        "param_grid = {'gamma': [0.001, 0.01, 0.1, 1, 10, 100]}\n",
        "grid_search_gamma = GridSearchCV(svm_rbf_gamma, param_grid, cv=5, scoring='accuracy')\n",
        "grid_search_gamma.fit(x_train, y_train)\n",
        "best_gamma = grid_search_gamma.best_params_['gamma']\n",
        "best_svm_rbf_gamma = SVC(kernel='rbf', gamma=best_gamma)\n",
        "best_svm_rbf_gamma.fit(x_train,y_train)\n",
        "y_pred_gamma = best_svm_rbf_gamma.predict(x_test)\n",
        "accuracy_gamma = accuracy_score(y_test, y_pred_gamma)"
      ],
      "metadata": {
        "id": "QrqJZktL7uG8"
      },
      "execution_count": 34,
      "outputs": []
    },
    {
      "cell_type": "code",
      "source": [
        "print(f\"El mejor valor de gamma es de {best_gamma} con un accuracy de {accuracy_gamma}\")"
      ],
      "metadata": {
        "id": "tGeMKCgW8UDh",
        "colab": {
          "base_uri": "https://localhost:8080/"
        },
        "outputId": "084a75f8-8059-4412-9e57-4a7341e5361b"
      },
      "execution_count": 35,
      "outputs": [
        {
          "output_type": "stream",
          "name": "stdout",
          "text": [
            "El mejor valor de gamma es de 0.1 con un accuracy de 0.6554878048780488\n"
          ]
        }
      ]
    },
    {
      "cell_type": "markdown",
      "source": [
        "Con el valor de $γ$ apropiado ya encontrado, ahora se procedió a encontrar el valor apropiado de C, en el cual se utilizó la misma búsqueda de grilla que el que se utilizó para encontrar el $γ$ se utilizó el mismo razonamiento para las potencias de 10 en el rango C que se ha utilizando tanto en el kernel polinomial como en el valor de $γ$ del kernel gaussiano. Se utilizó el $γ$ de 0.1, encontrado en el punto anterior"
      ],
      "metadata": {
        "id": "u2CQ30z1_08b"
      }
    },
    {
      "cell_type": "code",
      "source": [
        "svm_rbf_c = SVC(kernel='rbf', gamma=0.1,random_state=42)\n",
        "param_grid = {'C': [0.1, 1, 10, 100, 1000]}\n",
        "grid_search_rbf_c = GridSearchCV(svm_rbf_c, param_grid, cv=5, scoring='accuracy')\n",
        "grid_search_rbf_c.fit(x_train,y_train)\n",
        "best_c_rbf = grid_search_rbf_c.best_params_['C']\n",
        "best_svm_rbf_c = SVC(kernel='rbf', gamma=0.1, C=best_c_rbf)\n",
        "best_svm_rbf_c.fit(x_train, y_train)\n",
        "y_pred_rbf = best_svm_rbf_c.predict(x_test)\n",
        "accuracy_rbf = accuracy_score(y_test, y_pred_rbf)"
      ],
      "metadata": {
        "id": "LW_ot6Cx9spO"
      },
      "execution_count": 36,
      "outputs": []
    },
    {
      "cell_type": "code",
      "source": [
        "print(f\"El mejor valor de C es de {best_c_rbf}, y el accuracy obtenido es de {accuracy_rbf}\")"
      ],
      "metadata": {
        "id": "YGBh4b7K-Swn",
        "colab": {
          "base_uri": "https://localhost:8080/"
        },
        "outputId": "93efa67d-51e0-4008-87a7-e72cfd1b8d52"
      },
      "execution_count": 37,
      "outputs": [
        {
          "output_type": "stream",
          "name": "stdout",
          "text": [
            "El mejor valor de C es de 1, y el accuracy obtenido es de 0.6554878048780488\n"
          ]
        }
      ]
    },
    {
      "cell_type": "markdown",
      "source": [
        "Con el valor de C encontrado, esta predicción se utilizará para evaluar el mejor modelo y compararse con el gaussiano"
      ],
      "metadata": {
        "id": "utZ0yK_XAdTe"
      }
    },
    {
      "cell_type": "markdown",
      "source": [
        "### **EVALUACIÓN DE MODELOS**"
      ],
      "metadata": {
        "id": "mEYuFP4emhG3"
      }
    },
    {
      "cell_type": "markdown",
      "source": [
        "Evalúe sus dos modelos resultantes en los datos de prueba con métricas apropiadas y compare su desempeño.\n"
      ],
      "metadata": {
        "id": "l63otuQVWDjD"
      }
    },
    {
      "cell_type": "markdown",
      "source": [
        "#### Matriz de Confusión y sus Respectivos Valores"
      ],
      "metadata": {
        "id": "Evi9KZcQplan"
      }
    },
    {
      "cell_type": "markdown",
      "source": [
        "Se hizo un cálculo de valores true positive, true negatives, false positives, false negatives y luego se reflejó gráficamente mediante la matriz de confusión"
      ],
      "metadata": {
        "id": "PKRy48R6rU6f"
      }
    },
    {
      "cell_type": "markdown",
      "source": [
        "Para el modelo de kernel polinomial"
      ],
      "metadata": {
        "id": "y94O0HmJsSP9"
      }
    },
    {
      "cell_type": "code",
      "source": [
        "def compute_tp_tn_fn_fp(y_act, y_pred):\n",
        "    tp = sum((y_act == 1) & (y_pred == 1))\n",
        "    tn = sum((y_act == 0) & (y_pred == 0))\n",
        "    fn = sum((y_act == 1) & (y_pred == 0))\n",
        "    fp = sum((y_act == 0) & (y_pred == 1))\n",
        "    return tp, tn, fp, fn\n",
        "\n",
        "\n",
        "tp_pol, tn_pol, fp_pol, fn_pol = compute_tp_tn_fn_fp(y_pred_poly,y_test)\n",
        "print(\"Número de True Postives: \"+str(tp_pol))\n",
        "print(\"Número de True Negatives: \"+str(tn_pol))\n",
        "print(\"Número de False Positives: \"+str(fp_pol))\n",
        "print(\"Número de False Negatives: \"+str(fn_pol))"
      ],
      "metadata": {
        "colab": {
          "base_uri": "https://localhost:8080/"
        },
        "id": "3Xf-PiOppDic",
        "outputId": "a691cf95-eb52-4f89-b21e-0f847e1f3188"
      },
      "execution_count": 48,
      "outputs": [
        {
          "output_type": "stream",
          "name": "stdout",
          "text": [
            "Número de True Postives: 52\n",
            "Número de True Negatives: 380\n",
            "Número de False Positives: 193\n",
            "Número de False Negatives: 31\n"
          ]
        }
      ]
    },
    {
      "cell_type": "code",
      "source": [
        "cm = confusion_matrix(y_test, y_pred_poly, labels=best_svm_poly_c.classes_)\n",
        "disp = ConfusionMatrixDisplay(confusion_matrix=cm,display_labels=best_svm_poly_c.classes_)\n",
        "disp.plot()\n",
        "plt.show()"
      ],
      "metadata": {
        "colab": {
          "base_uri": "https://localhost:8080/",
          "height": 449
        },
        "id": "gvBH-N_Jp7OM",
        "outputId": "9fd5ec95-0ec9-4cdb-bf52-962b605ae805"
      },
      "execution_count": 49,
      "outputs": [
        {
          "output_type": "display_data",
          "data": {
            "text/plain": [
              "<Figure size 640x480 with 2 Axes>"
            ],
            "image/png": "[encoded data removed]"
          },
          "metadata": {}
        }
      ]
    },
    {
      "cell_type": "markdown",
      "source": [
        "Para el modelo de kernel gaussiano"
      ],
      "metadata": {
        "id": "RXuUSjDxsV2L"
      }
    },
    {
      "cell_type": "code",
      "source": [
        "tp_rbf, tn_rbf, fp_rbf, fn_rbf = compute_tp_tn_fn_fp(y_pred_rbf,y_test)\n",
        "print(\"Número de True Postives: \"+str(tp_rbf))\n",
        "print(\"Número de True Negatives: \"+str(tn_rbf))\n",
        "print(\"Número de False Positives: \"+str(fp_rbf))\n",
        "print(\"Número de False Negatives: \"+str(fn_rbf))"
      ],
      "metadata": {
        "colab": {
          "base_uri": "https://localhost:8080/"
        },
        "id": "IVYMP3tusZVb",
        "outputId": "0d327395-ce22-4396-e85d-537fcabd7079"
      },
      "execution_count": 52,
      "outputs": [
        {
          "output_type": "stream",
          "name": "stdout",
          "text": [
            "Número de True Postives: 59\n",
            "Número de True Negatives: 371\n",
            "Número de False Positives: 186\n",
            "Número de False Negatives: 40\n"
          ]
        }
      ]
    },
    {
      "cell_type": "code",
      "source": [
        "cm = confusion_matrix(y_test, y_pred_rbf, labels=best_svm_poly_c.classes_)\n",
        "disp = ConfusionMatrixDisplay(confusion_matrix=cm,display_labels=best_svm_rbf_c.classes_)\n",
        "disp.plot()\n",
        "plt.show()"
      ],
      "metadata": {
        "colab": {
          "base_uri": "https://localhost:8080/",
          "height": 449
        },
        "id": "HKB8N5s0suT4",
        "outputId": "789b5a2f-7970-4ca2-b919-7cb78262ea45"
      },
      "execution_count": 53,
      "outputs": [
        {
          "output_type": "display_data",
          "data": {
            "text/plain": [
              "<Figure size 640x480 with 2 Axes>"
            ],
            "image/png": "[encoded data removed]"
          },
          "metadata": {}
        }
      ]
    },
    {
      "cell_type": "markdown",
      "source": [
        "#### Recall\n",
        "\n",
        "$$ Recall = \\frac{TP}{TP+FN} $$"
      ],
      "metadata": {
        "id": "ngdH8MCkrkrd"
      }
    },
    {
      "cell_type": "code",
      "source": [
        "recall_pol = skm.recall_score(y_test,y_pred_poly)\n",
        "print(f\"El valor del TP Rate/ Recall/ Sensitividad en el Modelo con Kernel Polinomial es de {recall_pol}\")\n",
        "\n",
        "recall_pol = skm.recall_score(y_test,y_pred_rbf)\n",
        "print(f\"El valor del TP Rate/ Recall/ Sensitividad en el Modelo con Kernel Gaussiano es de {recall_pol}\")\n",
        "\n"
      ],
      "metadata": {
        "colab": {
          "base_uri": "https://localhost:8080/"
        },
        "id": "7wBf22iMr8eI",
        "outputId": "273cd4c6-979d-4521-ee29-14c55e3a7a97"
      },
      "execution_count": 54,
      "outputs": [
        {
          "output_type": "stream",
          "name": "stdout",
          "text": [
            "El valor del TP Rate/ Recall/ Sensitividad en el Modelo con Kernel Polinomial es de 0.21224489795918366\n",
            "El valor del TP Rate/ Recall/ Sensitividad en el Modelo con Kernel Gaussiano es de 0.24081632653061225\n"
          ]
        }
      ]
    },
    {
      "cell_type": "markdown",
      "source": [
        "#### TN Rate / Especficidad\n",
        "\n",
        "\n",
        "$$TN Rate = \\frac{TN}{TN + FP}$$"
      ],
      "metadata": {
        "id": "eggpnb0xtPtA"
      }
    },
    {
      "cell_type": "code",
      "source": [
        "def specificity(tn,fp):\n",
        "    return tn/(tn+fp)\n",
        "\n",
        "specificity_pol = specificity(tn_pol,fp_pol)\n",
        "specificity_rbf = specificity(tn_rbf,fp_rbf)\n",
        "\n",
        "print(f\"El valor del TN Rate/ Especificidad en el Modelo con Kernel Polinomial es de {specificity_pol}\")\n",
        "print(f\"El valor del TN Rate/ Especificidad en el Modelo con Kernel Gaussiano es de {specificity_rbf}\")"
      ],
      "metadata": {
        "colab": {
          "base_uri": "https://localhost:8080/"
        },
        "id": "SGiy9bGdtWuU",
        "outputId": "3ae00e6f-3e6b-4325-a371-3af4f581394d"
      },
      "execution_count": 56,
      "outputs": [
        {
          "output_type": "stream",
          "name": "stdout",
          "text": [
            "El valor del TN Rate/ Especificidad en el Modelo con Kernel Polinomial es de 0.6631762652705061\n",
            "El valor del TN Rate/ Especificidad en el Modelo con Kernel Gaussiano es de 0.6660682226211849\n"
          ]
        }
      ]
    },
    {
      "cell_type": "markdown",
      "source": [
        "#### Precision\n",
        "\n",
        "$$Precision = \\frac{TP}{TP+FP}$$"
      ],
      "metadata": {
        "id": "GA2RAAL9t9Gq"
      }
    },
    {
      "cell_type": "code",
      "source": [
        "precision_pol = skm.precision_score(y_test,y_pred_poly)\n",
        "precision_rbf = skm.precision_score(y_test,y_pred_rbf)\n",
        "\n",
        "print(f\"El valor del la precisión en el Modelo con Kernel Polinomial es de {precision_pol}\")\n",
        "print(f\"El valor del la precisión en el Modelo con Kernel Gaussiano es de {precision_rbf}\")"
      ],
      "metadata": {
        "colab": {
          "base_uri": "https://localhost:8080/"
        },
        "id": "-GIBI4eguFo-",
        "outputId": "17331cb7-caae-41e4-b3bf-15f3d3c9f607"
      },
      "execution_count": 59,
      "outputs": [
        {
          "output_type": "stream",
          "name": "stdout",
          "text": [
            "El valor del la precisión en el Modelo con Kernel Polinomial es de 0.6265060240963856\n",
            "El valor del la precisión en el Modelo con Kernel Gaussiano es de 0.5959595959595959\n"
          ]
        }
      ]
    },
    {
      "cell_type": "markdown",
      "source": [
        "#### F1-Score\n",
        "\n",
        "$$F1score = \\frac{2*precision*recall}{precision*recall}$$"
      ],
      "metadata": {
        "id": "u2rbUBluunRc"
      }
    },
    {
      "cell_type": "code",
      "source": [
        "f1score_pol = skm.f1_score(y_test,y_pred_poly)\n",
        "f1score_rbf = skm.f1_score(y_test,y_pred_rbf)\n",
        "\n",
        "print(f\"El valor del f1_score en el Modelo con Kernel Polinomial es de {f1score_pol}\")\n",
        "print(f\"El valor del f1_score en el Modelo con Kernel Gaussiano es de {f1score_rbf}\")"
      ],
      "metadata": {
        "colab": {
          "base_uri": "https://localhost:8080/"
        },
        "id": "jAp2_oj-uyCO",
        "outputId": "9d5cb01b-6779-4983-8244-53ba84c6b47f"
      },
      "execution_count": 61,
      "outputs": [
        {
          "output_type": "stream",
          "name": "stdout",
          "text": [
            "El valor del f1_score en el Modelo con Kernel Polinomial es de 0.3170731707317073\n",
            "El valor del f1_score en el Modelo con Kernel Gaussiano es de 0.3430232558139535\n"
          ]
        }
      ]
    },
    {
      "cell_type": "markdown",
      "source": [
        "#### Accuracy Score\n",
        "\n",
        "$$\\frac{TP+TN}{TP+FP+TN+FN}$$"
      ],
      "metadata": {
        "id": "mPL73ysbvQ_M"
      }
    },
    {
      "cell_type": "code",
      "source": [
        "accuracy_pol = accuracy_score(y_test,y_pred_poly)\n",
        "accuracy_rbf = accuracy_score(y_test,y_pred_rbf)\n",
        "\n",
        "print(f\"El valor de la exacitud (accuracy score) del Modelo con Kernel Polinomial es de {accuracy_pol}\")\n",
        "print(f\"El valor de la exacitud (accuracy score) del Modelo con Kernel Gaussiano es de {accuracy_rbf}\")"
      ],
      "metadata": {
        "colab": {
          "base_uri": "https://localhost:8080/"
        },
        "id": "W7q2O3d_vW3Q",
        "outputId": "984bdd1f-dc5f-4385-c358-b501ba4bfed1"
      },
      "execution_count": 64,
      "outputs": [
        {
          "output_type": "stream",
          "name": "stdout",
          "text": [
            "El valor de la exacitud (accuracy score) del Modelo con Kernel Polinomial es de 0.6585365853658537\n",
            "El valor de la exacitud (accuracy score) del Modelo con Kernel Gaussiano es de 0.6554878048780488\n"
          ]
        }
      ]
    },
    {
      "cell_type": "markdown",
      "source": [
        "### **ANÁLISIS DE RESULTADOS**\n",
        "\n",
        "Con base a los resultados obtenidos en la evaluación de ambos modelos, se puede deducir que ambos modelos son similares al realizar la clasificación de los datos, sin embargo, el modelo con el kernel gaussiano tiene ligeramente una ventaja sobre el kernel polinomial al tener una superior sensitividad, especificidad y f1-score.\n",
        "\n",
        "\n",
        "En el proceso de selección de modelo se utilizó como scoring para escoger los modelos la métrica de exactitud/accuracy dado que representa cuántos datos fueron mejor clasificados con respecto a la totalidad de los datos. Siendo esta medida similar para ambos modelos.\n",
        "\n",
        "Dentro de los modelos escogidos, con respecto al kernel polinomial se utilizó una dimensión de 2, por lo que una recta resulta ser la mejor dimensión del hiperparámetro del kernel polinomial. Por otro lado, se debió escoger un C grande (1000), lo cual significa que se necesitó un alto control de la penalización para clasificar al valor  iincorrectamente los puntos de entrenamiento.\n",
        "\n",
        "Por otro lado, con respecto al kernel gaussiano, se debio escoger un valor pequeño de $γ$ dado que el mejor modelo indicó un alcance más amplios al admitir una gran distancia entre puntos, por otro lado, con respecto al valor de C (1), significa que no se requirió un alto control de la penalización para clasificar un valor incorrecto."
      ],
      "metadata": {
        "id": "UaqCjYM1xUoF"
      }
    },
    {
      "cell_type": "markdown",
      "source": [
        "### **CONCLUSIONES**"
      ],
      "metadata": {
        "id": "HCWyW3Am0Hw-"
      }
    },
    {
      "cell_type": "markdown",
      "source": [
        "Para realizar un modelo utilizando un kernel polinomial, es necesario utilizar valores importantes como la dimensión del hiperparámetro del kernel y el valor C, los cuales mediante optimización, se pueden encontrar tal que se minimice el error de clasificación y se aumente el margen de clasificación\n",
        "\n",
        "\n",
        "Para realizar un modelo utilizando un kernel gaussiano, es necesario utilizar valores importantes como el valor de $γ$ y el valor C, los cuales mediante optimización, se pueden encontrar tal que se minimice el error de clasificación y se aumente el margen de clasificación.\n",
        "\n",
        "Para realizar una optimización de los parámetros mencionados anteriormente, una forma útil de realizarlo computacionalmente es mediante la búsqueda de grilla, la cual hace una prueba del modelo con todas las combinaciones posibles de hiperparámetros hasta encontrar el mejor modelo de acuerdo a un scoring"
      ],
      "metadata": {
        "id": "_CauD9hR0PWj"
      }
    }
  ]
}